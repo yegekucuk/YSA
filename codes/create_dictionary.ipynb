{
 "cells": [
  {
   "cell_type": "code",
   "execution_count": 1,
   "id": "71524968",
   "metadata": {},
   "outputs": [],
   "source": [
    "from convert import *\n",
    "import re"
   ]
  },
  {
   "cell_type": "code",
   "execution_count": 2,
   "id": "14c7ef57",
   "metadata": {},
   "outputs": [],
   "source": [
    "# Number of genres and films, which were 7 for genres and 10 for films at the beginning.\n",
    "num_genres = 1\n",
    "num_films = 3\n",
    "\n",
    "genres = list(range(num_genres))\n",
    "films = list(range(num_films))"
   ]
  },
  {
   "cell_type": "code",
   "execution_count": 3,
   "id": "f5fab7c9",
   "metadata": {},
   "outputs": [],
   "source": [
    "# List of the words used. This list will have the words unique to avoid repetition \n",
    "dictionary_index = []"
   ]
  },
  {
   "cell_type": "code",
   "execution_count": 4,
   "id": "aae18a64",
   "metadata": {
    "scrolled": true
   },
   "outputs": [
    {
     "name": "stdout",
     "output_type": "stream",
     "text": [
      "0/0 done.\n",
      "0/1 done.\n",
      "0/2 done.\n"
     ]
    }
   ],
   "source": [
    "# This block gets the words in each script, and adds them to the dictionary_index\n",
    "remove_list = ['-','','EXT.']\n",
    "for i in genres:\n",
    "    for j in films:\n",
    "        \n",
    "        # Reading scripts for each film\n",
    "        with open(f\"Films/{i}/{j}.txt\",\"r\",encoding=\"utf8\") as file:\n",
    "            string = kaldir(file.read())\n",
    "        string = string.upper()\n",
    "\n",
    "        # Converting the string to the list and removing some of the expressions\n",
    "        liste = string.split(\" \")\n",
    "        for element in remove_list:\n",
    "            while element in liste:\n",
    "                liste.remove(element)\n",
    "        \n",
    "        # Converting the list back to string and doing \"is alpha\" search.\n",
    "        # Which means we are looking for words that containing alpha characters only\n",
    "        # We use set() for removing repeated words\n",
    "        liste = \" \".join(liste)\n",
    "        regex = r\"\\b[A-Za-z]+\\b\" # is alpha\n",
    "        dictionary_index.extend(list(set(re.findall(regex,liste))))\n",
    "        print(f\"{i}/{j} done.\")"
   ]
  },
  {
   "cell_type": "code",
   "execution_count": 5,
   "id": "f456dca1",
   "metadata": {
    "scrolled": true
   },
   "outputs": [
    {
     "name": "stdout",
     "output_type": "stream",
     "text": [
      "7337\n"
     ]
    }
   ],
   "source": [
    "# Adding some expressions to use later\n",
    "# NOTE: These expressions weren't used because the model didn't work properly\n",
    "dictionary_index = list(set(dictionary_index))\n",
    "dictionary_index.extend(['.',',','?','!'])\n",
    "print(len(dictionary_index))"
   ]
  },
  {
   "cell_type": "code",
   "execution_count": 7,
   "id": "74b274ba",
   "metadata": {},
   "outputs": [
    {
     "name": "stdout",
     "output_type": "stream",
     "text": [
      "763\n",
      "3882\n",
      "7163\n"
     ]
    }
   ],
   "source": [
    "print(dictionary_index.index(\"I\"))\n",
    "print(dictionary_index.index(\"LOVE\"))\n",
    "print(dictionary_index.index(\"YOU\"))"
   ]
  },
  {
   "cell_type": "code",
   "execution_count": 8,
   "id": "1951f3db",
   "metadata": {},
   "outputs": [
    {
     "name": "stdout",
     "output_type": "stream",
     "text": [
      "Successfully created the file in COLLAB/dictionary.txt\n"
     ]
    }
   ],
   "source": [
    "# Writing the dictionary\n",
    "with open(\"COLLAB/dictionary.txt\",\"w\",encoding=\"utf8\") as file:\n",
    "    string = \"\\n\".join(dictionary_index)\n",
    "    file.write(string)\n",
    "    print(\"Successfully created the file in COLLAB/dictionary.txt\")"
   ]
  }
 ],
 "metadata": {
  "kernelspec": {
   "display_name": "Python 3 (ipykernel)",
   "language": "python",
   "name": "python3"
  },
  "language_info": {
   "codemirror_mode": {
    "name": "ipython",
    "version": 3
   },
   "file_extension": ".py",
   "mimetype": "text/x-python",
   "name": "python",
   "nbconvert_exporter": "python",
   "pygments_lexer": "ipython3",
   "version": "3.10.4"
  }
 },
 "nbformat": 4,
 "nbformat_minor": 5
}
