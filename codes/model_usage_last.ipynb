{
  "cells": [
    {
      "cell_type": "code",
      "execution_count": 9,
      "metadata": {
        "colab": {
          "base_uri": "https://localhost:8080/"
        },
        "id": "Mg_ZRopoEIQq",
        "outputId": "1ff87e8e-2d87-4cdd-c66d-16f8e7bbcdce"
      },
      "outputs": [
        {
          "name": "stdout",
          "output_type": "stream",
          "text": [
            "Drive already mounted at /content/drive; to attempt to forcibly remount, call drive.mount(\"/content/drive\", force_remount=True).\n"
          ]
        }
      ],
      "source": [
        "#from google.colab import drive\n",
        "#drive.mount('/content/drive')"
      ]
    },
    {
      "cell_type": "code",
      "execution_count": 20,
      "metadata": {
        "id": "aXB5i_Y0cBGC"
      },
      "outputs": [],
      "source": [
        "# Parameters, first_5 is a list containing first 5 words\n",
        "string = \"The fist is in a\".upper()\n",
        "first_5 = string.split(\" \")"
      ]
    },
    {
      "cell_type": "code",
      "execution_count": 4,
      "metadata": {
        "id": "hXIs0EfMESa9"
      },
      "outputs": [],
      "source": [
        "from keras.models import load_model\n",
        "from keras.utils import to_categorical\n",
        "import numpy as np\n",
        "from function1 import *\n",
        "\n",
        "# Loading the Dictionary\n",
        "with open(\"import/dictionary.txt\",\"r\",encoding=\"utf8\") as file:\n",
        "    dictionary = [string.replace(\"\\n\",\"\") for string in file.readlines()]"
      ]
    },
    {
      "cell_type": "code",
      "execution_count": 21,
      "metadata": {
        "id": "TKgT_2uYXNXm"
      },
      "outputs": [],
      "source": [
        "# The list containing all the words, generated words will be appended to this list\n",
        "words = []\n",
        "words.extend(first_5)"
      ]
    },
    {
      "cell_type": "code",
      "execution_count": 16,
      "metadata": {
        "colab": {
          "base_uri": "https://localhost:8080/"
        },
        "id": "weCKXjocFiXK",
        "outputId": "49476330-dc6e-4058-d29e-201d4293e4d9"
      },
      "outputs": [
        {
          "name": "stdout",
          "output_type": "stream",
          "text": [
            "[[2533], [763], [5152], [852], [757]]\n",
            "[[0 0 0 ... 0 0 0]\n",
            " [0 0 0 ... 0 0 0]\n",
            " [0 0 0 ... 0 0 0]\n",
            " [0 0 0 ... 0 0 0]\n",
            " [0 0 0 ... 0 0 0]]\n",
            "(5, 7338)\n"
          ]
        }
      ],
      "source": [
        "# Getting indexes of the words\n",
        "first_5 = [[dictionary.index(word)] for word in first_5]\n",
        "# Converting it to categorical\n",
        "categorical = to_categorical(first_5,num_classes=len(dictionary)+1,dtype=\"byte\")\n",
        "\n",
        "print(first_5)\n",
        "print(categorical)\n",
        "print(np.shape(categorical))"
      ]
    },
    {
      "cell_type": "code",
      "execution_count": 9,
      "metadata": {
        "id": "A3PYSTvJHSYn"
      },
      "outputs": [],
      "source": [
        "# Loading the model\n",
        "from keras.optimizers import Adagrad\n",
        "\n",
        "model = load_model(\"models/Dense_70epochs.h5\",compile=False)\n",
        "opt = Adagrad(learning_rate = 0.01)\n",
        "model.compile(loss=\"categorical_crossentropy\", optimizer=opt, metrics=[\"accuracy\"])"
      ]
    },
    {
      "cell_type": "code",
      "execution_count": 17,
      "metadata": {
        "id": "lDj9tH3ifIhC"
      },
      "outputs": [],
      "source": [
        "def predict_a_word(inputs):\n",
        "  \"\"\"\n",
        "  This model predicts a word according to the inputs\n",
        "  Inputs is a list and it contains 5 strings\n",
        "  \"\"\"\n",
        "  # Converting Strings to Categorical\n",
        "  window = inputs.copy()\n",
        "  window = [[dictionary.index(word)] for word in window]\n",
        "  categorical = to_categorical(window,num_classes=len(dictionary)+1,dtype=\"byte\")\n",
        "\n",
        "  # Predicting\n",
        "  categorical = np.reshape(categorical,(1, 5, 7338, 1))\n",
        "  pred = model.predict(categorical)\n",
        "  pred = np.reshape(pred,(7338,1))\n",
        "  pred = toInt(pred)\n",
        "\n",
        "  # Getting the predicted words, which is only 1 word\n",
        "  # The code was changed to see multiple outputs during the test\n",
        "  # But this code works for 1 word also\n",
        "  ones = []\n",
        "  for i,j in enumerate(pred.tolist()):\n",
        "    if j == 1:\n",
        "      ones.append(i)\n",
        "  new_words = [dictionary[ones[i]] for i in range(len(ones))]\n",
        "  return new_words[0]"
      ]
    },
    {
      "cell_type": "code",
      "execution_count": 22,
      "metadata": {
        "colab": {
          "base_uri": "https://localhost:8080/"
        },
        "id": "kI8LNBurgHhq",
        "outputId": "fc1aba9f-d2e1-46d9-bc5d-3f2aeca716fb"
      },
      "outputs": [
        {
          "name": "stdout",
          "output_type": "stream",
          "text": [
            "0\n",
            "1/1 [==============================] - 0s 78ms/step\n",
            "1\n",
            "1/1 [==============================] - 0s 61ms/step\n",
            "2\n",
            "1/1 [==============================] - 0s 58ms/step\n",
            "3\n",
            "1/1 [==============================] - 0s 59ms/step\n",
            "4\n",
            "1/1 [==============================] - 0s 58ms/step\n",
            "5\n",
            "1/1 [==============================] - 0s 58ms/step\n",
            "6\n",
            "1/1 [==============================] - 0s 57ms/step\n",
            "7\n",
            "1/1 [==============================] - 0s 56ms/step\n",
            "8\n",
            "1/1 [==============================] - 0s 56ms/step\n",
            "9\n",
            "1/1 [==============================] - 0s 58ms/step\n",
            "10\n",
            "1/1 [==============================] - 0s 60ms/step\n",
            "11\n",
            "1/1 [==============================] - 0s 60ms/step\n",
            "12\n",
            "1/1 [==============================] - 0s 62ms/step\n",
            "13\n",
            "1/1 [==============================] - 0s 60ms/step\n",
            "14\n",
            "1/1 [==============================] - 0s 61ms/step\n",
            "15\n",
            "1/1 [==============================] - 0s 93ms/step\n",
            "16\n",
            "1/1 [==============================] - 0s 61ms/step\n",
            "17\n",
            "1/1 [==============================] - 0s 59ms/step\n",
            "18\n",
            "1/1 [==============================] - 0s 59ms/step\n",
            "19\n",
            "1/1 [==============================] - 0s 60ms/step\n",
            "20\n",
            "1/1 [==============================] - 0s 61ms/step\n",
            "21\n",
            "1/1 [==============================] - 0s 57ms/step\n",
            "22\n",
            "1/1 [==============================] - 0s 59ms/step\n",
            "23\n",
            "1/1 [==============================] - 0s 58ms/step\n",
            "24\n",
            "1/1 [==============================] - 0s 58ms/step\n",
            "25\n",
            "1/1 [==============================] - 0s 56ms/step\n",
            "26\n",
            "1/1 [==============================] - 0s 60ms/step\n",
            "27\n",
            "1/1 [==============================] - 0s 58ms/step\n",
            "28\n",
            "1/1 [==============================] - 0s 58ms/step\n",
            "29\n",
            "1/1 [==============================] - 0s 60ms/step\n",
            "30\n",
            "1/1 [==============================] - 0s 59ms/step\n",
            "31\n",
            "1/1 [==============================] - 0s 59ms/step\n",
            "32\n",
            "1/1 [==============================] - 0s 58ms/step\n",
            "33\n",
            "1/1 [==============================] - 0s 60ms/step\n",
            "34\n",
            "1/1 [==============================] - 0s 59ms/step\n",
            "35\n",
            "1/1 [==============================] - 0s 56ms/step\n",
            "36\n",
            "1/1 [==============================] - 0s 60ms/step\n",
            "37\n",
            "1/1 [==============================] - 0s 59ms/step\n",
            "38\n",
            "1/1 [==============================] - 0s 59ms/step\n",
            "39\n",
            "1/1 [==============================] - 0s 94ms/step\n",
            "40\n",
            "1/1 [==============================] - 0s 63ms/step\n",
            "41\n",
            "1/1 [==============================] - 0s 60ms/step\n",
            "42\n",
            "1/1 [==============================] - 0s 57ms/step\n",
            "43\n",
            "1/1 [==============================] - 0s 58ms/step\n",
            "44\n",
            "1/1 [==============================] - 0s 59ms/step\n",
            "45\n",
            "1/1 [==============================] - 0s 58ms/step\n",
            "46\n",
            "1/1 [==============================] - 0s 56ms/step\n",
            "47\n",
            "1/1 [==============================] - 0s 63ms/step\n",
            "48\n",
            "1/1 [==============================] - 0s 56ms/step\n",
            "49\n",
            "1/1 [==============================] - 0s 59ms/step\n",
            "50\n",
            "1/1 [==============================] - 0s 57ms/step\n",
            "51\n",
            "1/1 [==============================] - 0s 57ms/step\n",
            "52\n",
            "1/1 [==============================] - 0s 58ms/step\n",
            "53\n",
            "1/1 [==============================] - 0s 57ms/step\n",
            "54\n",
            "1/1 [==============================] - 0s 59ms/step\n",
            "55\n",
            "1/1 [==============================] - 0s 58ms/step\n",
            "56\n",
            "1/1 [==============================] - 0s 60ms/step\n",
            "57\n",
            "1/1 [==============================] - 0s 59ms/step\n",
            "58\n",
            "1/1 [==============================] - 0s 60ms/step\n",
            "59\n",
            "1/1 [==============================] - 0s 58ms/step\n",
            "60\n",
            "1/1 [==============================] - 0s 56ms/step\n",
            "61\n",
            "1/1 [==============================] - 0s 57ms/step\n",
            "62\n",
            "1/1 [==============================] - 0s 58ms/step\n",
            "63\n",
            "1/1 [==============================] - 0s 86ms/step\n",
            "64\n",
            "1/1 [==============================] - 0s 55ms/step\n",
            "65\n",
            "1/1 [==============================] - 0s 57ms/step\n",
            "66\n",
            "1/1 [==============================] - 0s 58ms/step\n",
            "67\n",
            "1/1 [==============================] - 0s 57ms/step\n",
            "68\n",
            "1/1 [==============================] - 0s 57ms/step\n",
            "69\n",
            "1/1 [==============================] - 0s 59ms/step\n",
            "70\n",
            "1/1 [==============================] - 0s 59ms/step\n",
            "71\n",
            "1/1 [==============================] - 0s 57ms/step\n",
            "72\n",
            "1/1 [==============================] - 0s 59ms/step\n",
            "73\n",
            "1/1 [==============================] - 0s 58ms/step\n",
            "74\n",
            "1/1 [==============================] - 0s 61ms/step\n",
            "75\n",
            "1/1 [==============================] - 0s 64ms/step\n",
            "76\n",
            "1/1 [==============================] - 0s 59ms/step\n",
            "77\n",
            "1/1 [==============================] - 0s 61ms/step\n",
            "78\n",
            "1/1 [==============================] - 0s 59ms/step\n",
            "79\n",
            "1/1 [==============================] - 0s 59ms/step\n",
            "80\n",
            "1/1 [==============================] - 0s 58ms/step\n",
            "81\n",
            "1/1 [==============================] - 0s 59ms/step\n",
            "82\n",
            "1/1 [==============================] - 0s 60ms/step\n",
            "83\n",
            "1/1 [==============================] - 0s 59ms/step\n",
            "84\n",
            "1/1 [==============================] - 0s 57ms/step\n",
            "85\n",
            "1/1 [==============================] - 0s 59ms/step\n",
            "86\n",
            "1/1 [==============================] - 0s 56ms/step\n",
            "87\n",
            "1/1 [==============================] - 0s 62ms/step\n",
            "88\n",
            "1/1 [==============================] - 0s 59ms/step\n",
            "89\n",
            "1/1 [==============================] - 0s 56ms/step\n",
            "90\n",
            "1/1 [==============================] - 0s 58ms/step\n",
            "91\n",
            "1/1 [==============================] - 0s 58ms/step\n",
            "92\n",
            "1/1 [==============================] - 0s 61ms/step\n",
            "93\n",
            "1/1 [==============================] - 0s 59ms/step\n",
            "94\n",
            "1/1 [==============================] - 0s 58ms/step\n",
            "95\n",
            "1/1 [==============================] - 0s 59ms/step\n",
            "96\n",
            "1/1 [==============================] - 0s 57ms/step\n",
            "97\n",
            "1/1 [==============================] - 0s 60ms/step\n",
            "98\n",
            "1/1 [==============================] - 0s 57ms/step\n",
            "99\n",
            "1/1 [==============================] - 0s 59ms/step\n",
            "THE FIST IS IN A REESE IS NO ONE BY THE THE OF THE DEAKINS IS A AND HALE IS GOING TO BE I KNOW YOU AND REESE I SARAH SARAH I WANT YOU TO SEE ME JACK IF WE WERE A BUS JACK LOOKS UP TO JACK I WAS A LITTLE TYLER IS TYLER THIS I TYLER YOU JACK I COULD BE YOU THINK OF THE JACK I TYLER I WANT TO KNOW TYLER I WANT TO KNOW TYLER I WANT TO KNOW TYLER I WANT TO KNOW TYLER I WANT TO KNOW TYLER I WANT TO KNOW TYLER I WANT TO KNOW TYLER\n"
          ]
        }
      ],
      "source": [
        "# Getting the predicted long string\n",
        "length = 100\n",
        "for i in range(length):\n",
        "  print(i)\n",
        "  input = words[-5:]\n",
        "  new_word = predict_a_word(input)\n",
        "  words.append(new_word)\n",
        "\n",
        "# Getting the output\n",
        "print(\" \".join(words))"
      ]
    },
    {
      "cell_type": "code",
      "execution_count": 23,
      "metadata": {},
      "outputs": [
        {
          "data": {
            "text/plain": [
              "'The fist is in a reese is no one by the the of the deakins is a and hale is going to be i know you and reese i sarah sarah i want you to see me jack if we were a bus jack looks up to jack i was a little tyler is tyler this i tyler you jack i could be you think of the jack i tyler i want to know tyler i want to know tyler i want to know tyler i want to know tyler i want to know tyler i want to know tyler i want to know tyler'"
            ]
          },
          "execution_count": 23,
          "metadata": {},
          "output_type": "execute_result"
        }
      ],
      "source": [
        "\" \".join(words).capitalize()"
      ]
    }
  ],
  "metadata": {
    "accelerator": "GPU",
    "colab": {
      "gpuType": "T4",
      "provenance": []
    },
    "kernelspec": {
      "display_name": "Python 3",
      "name": "python3"
    },
    "language_info": {
      "codemirror_mode": {
        "name": "ipython",
        "version": 3
      },
      "file_extension": ".py",
      "mimetype": "text/x-python",
      "name": "python",
      "nbconvert_exporter": "python",
      "pygments_lexer": "ipython3",
      "version": "3.10.4"
    }
  },
  "nbformat": 4,
  "nbformat_minor": 0
}
