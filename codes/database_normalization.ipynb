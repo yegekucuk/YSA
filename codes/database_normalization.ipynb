{
 "cells": [
  {
   "cell_type": "code",
   "execution_count": 1,
   "id": "4ef897fb",
   "metadata": {},
   "outputs": [],
   "source": [
    "from convert import *\n",
    "from function1 import *"
   ]
  },
  {
   "cell_type": "code",
   "execution_count": 2,
   "id": "8328b092",
   "metadata": {},
   "outputs": [],
   "source": [
    "# Number of genres and films, which were 7 for genres and 10 for films at the beginning.\n",
    "num_genres = 1\n",
    "num_films = 3\n",
    "genres = list(range(num_genres))\n",
    "films = list(range(num_films))"
   ]
  },
  {
   "cell_type": "code",
   "execution_count": 3,
   "id": "55b0eb7f",
   "metadata": {},
   "outputs": [],
   "source": [
    "# Loading the dictionary\n",
    "\n",
    "with open(\"COLLAB/dictionary.txt\",\"r\",encoding=\"utf8\") as file:\n",
    "    dictionary = [string.replace(\"\\n\",\"\") for string in file.readlines()]"
   ]
  },
  {
   "cell_type": "code",
   "execution_count": 4,
   "id": "bb22104b",
   "metadata": {},
   "outputs": [],
   "source": [
    "def encode_and_save(i,j):\n",
    "    \"\"\"\n",
    "    This function opens the scripts,\n",
    "    encodes each words according to their index in dictionary list\n",
    "    \"\"\"\n",
    "    global films\n",
    "    global genres\n",
    "    global dictionary\n",
    "\n",
    "    # Controlling if the film exists\n",
    "    if i not in genres or j not in films:\n",
    "        raise IndexError(\"Genre of Film does not exist\")\n",
    "    \n",
    "    # Opening and reading the movies\n",
    "    with open(f\"Films/{i}/{j}.txt\",\"r\",encoding=\"utf8\") as file:\n",
    "        string = kaldir(file.read())\n",
    "        string = string.upper()\n",
    "    \n",
    "    # Encoding the words\n",
    "    stringbuilder = \"\"\n",
    "    liste = string.split(\" \")\n",
    "    for k in liste:\n",
    "        if k in dictionary:\n",
    "            stringbuilder += str(dictionary.index(k))\n",
    "            stringbuilder += \" \"\n",
    "        else:\n",
    "            continue\n",
    "    liste2 = stringbuilder.split(\" \")\n",
    "    \n",
    "    # Removing the blank character\n",
    "    liste2.pop(-1)\n",
    "    \n",
    "    # Saving the encoded list in text file\n",
    "    with open(f\"COLLAB/{j}_enc.txt\",\"w\",encoding=\"utf8\") as file:\n",
    "        file.write(\"\\n\".join(liste2))\n",
    "        print(f\"Successfully created the file in COLLAB/{j}_enc.txt\")\n",
    "    \n",
    "    return None"
   ]
  },
  {
   "cell_type": "code",
   "execution_count": 5,
   "id": "d62eb480",
   "metadata": {},
   "outputs": [
    {
     "name": "stdout",
     "output_type": "stream",
     "text": [
      "Successfully created the file in COLLAB/0_enc.txt\n",
      "0/0 done.\n",
      "Successfully created the file in COLLAB/1_enc.txt\n",
      "0/1 done.\n",
      "Successfully created the file in COLLAB/2_enc.txt\n",
      "0/2 done.\n"
     ]
    }
   ],
   "source": [
    "# Encoding and saving each film\n",
    "for i in genres:\n",
    "    for j in films:\n",
    "        encode_and_save(i,j)\n",
    "        print(f\"{i}/{j} done.\")"
   ]
  }
 ],
 "metadata": {
  "kernelspec": {
   "display_name": "Python 3 (ipykernel)",
   "language": "python",
   "name": "python3"
  },
  "language_info": {
   "codemirror_mode": {
    "name": "ipython",
    "version": 3
   },
   "file_extension": ".py",
   "mimetype": "text/x-python",
   "name": "python",
   "nbconvert_exporter": "python",
   "pygments_lexer": "ipython3",
   "version": "3.10.4"
  }
 },
 "nbformat": 4,
 "nbformat_minor": 5
}
